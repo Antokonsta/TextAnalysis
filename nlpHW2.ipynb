{
 "cells": [
  {
   "cell_type": "code",
   "execution_count": 215,
   "metadata": {
    "collapsed": true
   },
   "outputs": [],
   "source": [
    "import pandas\n",
    "import numpy as np\n",
    "import nltk\n",
    "from sklearn.cluster import KMeans\n",
    "from sklearn.feature_extraction.text import TfidfVectorizer\n",
    "import matplotlib.pyplot as plt\n",
    "from sklearn.decomposition import TruncatedSVD\n",
    "from sklearn.metrics.pairwise import euclidean_distances\n",
    "emails = pandas.read_csv('/Users/Anton/Desktop/Учеба/Тексты/hw2/hillary-clinton-emails/Emails.csv')\n"
   ]
  },
  {
   "cell_type": "code",
   "execution_count": 151,
   "metadata": {
    "collapsed": false
   },
   "outputs": [
    {
     "data": {
      "text/plain": [
       "Index(['Id', 'DocNumber', 'MetadataSubject', 'MetadataTo', 'MetadataFrom',\n",
       "       'SenderPersonId', 'MetadataDateSent', 'MetadataDateReleased',\n",
       "       'MetadataPdfLink', 'MetadataCaseNumber', 'MetadataDocumentClass',\n",
       "       'ExtractedSubject', 'ExtractedTo', 'ExtractedFrom', 'ExtractedCc',\n",
       "       'ExtractedDateSent', 'ExtractedCaseNumber', 'ExtractedDocNumber',\n",
       "       'ExtractedDateReleased', 'ExtractedReleaseInPartOrFull',\n",
       "       'ExtractedBodyText', 'RawText'],\n",
       "      dtype='object')"
      ]
     },
     "execution_count": 151,
     "metadata": {},
     "output_type": "execute_result"
    }
   ],
   "source": [
    "emails.columns"
   ]
  },
  {
   "cell_type": "markdown",
   "metadata": {},
   "source": [
    "### Предобработка\n",
    "##### 1) Удаляем все пустые ячейки\n",
    "##### 2) Удаляем специальные слова, которые характеризуют заголовки письма\n",
    "##### 3) Приводим слова к нижнему регистру для предотвращения дублирования\n",
    "##### 4) Удаляем все специальные символы"
   ]
  },
  {
   "cell_type": "code",
   "execution_count": 152,
   "metadata": {
    "collapsed": false
   },
   "outputs": [],
   "source": [
    "text_mails =  data.ExtractedBodyText.dropna().values\n"
   ]
  },
  {
   "cell_type": "code",
   "execution_count": 153,
   "metadata": {
    "collapsed": true
   },
   "outputs": [],
   "source": [
    "words_for_delete = ['UNCLASSIFIED', 'SUBJECT', 'RELEASE',\n",
    "                    'Doc', 'U.S. Department',  'Cc', 'Re', 'cc', 'Case', 'From', 'To', \n",
    "                    'Sent', 'Date', \"fwd\"]\n",
    "def process(line):\n",
    "    for w in words_for_delete:\n",
    "        line =line.replace(w, '')\n",
    "    return line.lower()"
   ]
  },
  {
   "cell_type": "code",
   "execution_count": 154,
   "metadata": {
    "collapsed": true
   },
   "outputs": [],
   "source": [
    "text_mails = list(map(preprocess, text_mails))"
   ]
  },
  {
   "cell_type": "code",
   "execution_count": 155,
   "metadata": {
    "collapsed": false
   },
   "outputs": [],
   "source": [
    "from nltk.tokenize import RegexpTokenizer\n",
    "tokenizer = RegexpTokenizer('[a-zA-Z]+')\n",
    "text_mails = list(map(lambda x: ' '.join(tokenizer.tokenize(x)), text_mails))"
   ]
  },
  {
   "cell_type": "code",
   "execution_count": 156,
   "metadata": {
    "collapsed": false
   },
   "outputs": [
    {
     "data": {
      "text/plain": [
       "['b thursday march pm h latest how syria is aiding qaddafi and more sid hrc memo syria aiding libya docx hrc memo syria aiding libya docx march for hillary',\n",
       " 'thx',\n",
       " 'h hrod clintonemail com friday march pm huma abedin fw h latest how syria is aiding qaddafi and more sid hrc memo syria aiding libya docx pis print',\n",
       " 'pis print h hrod clintonernailcom wednesday september pm russorv state gov fw meet the right wing extremist behind anti fvluslim film that sparked deadly riots meat wednesday september pm subject meet the right wing extremist behind anti muslim film that sparked deadly riots htte maxbiumenthal com meet the right wing extremist behind anti musiim tihn that sparked deadly riots from my verizon wireless g lte droid of state no f no c state dept produced to house select benghazi comm to agreement on sensitive information redactions no foia waiver state cb',\n",
       " 'h hrod clintonemail corn friday march pm huma abedin fw h latest how syria is aiding qaddafi and more sid hrc memo syria aiding libya docx pis print',\n",
       " 'fyi',\n",
       " 'b wednesday september pm fwd more on libya libya sept docx sending direct just in from my verizon wireless g lte druid',\n",
       " 'fyi b',\n",
       " 'b wednesday september pm fwd more on libya libya sept docx sending direct just in from my verizon wireless g lte druid',\n",
       " 'fyi']"
      ]
     },
     "execution_count": 156,
     "metadata": {},
     "output_type": "execute_result"
    }
   ],
   "source": [
    "text_mails[0:10]"
   ]
  },
  {
   "cell_type": "markdown",
   "metadata": {},
   "source": [
    "### Поиск самых часто встречающихся биграмм"
   ]
  },
  {
   "cell_type": "code",
   "execution_count": 157,
   "metadata": {
    "collapsed": false
   },
   "outputs": [
    {
     "data": {
      "text/plain": [
       "[('aaaaaaaabhm', 'uucitwnkilm'),\n",
       " ('aafia', 'siddiqui'),\n",
       " ('aaron', 'schoch'),\n",
       " ('abba', 'eban'),\n",
       " ('acfe', 'asis'),\n",
       " ('achtnn', 'nepdc'),\n",
       " ('aciout', 'foreimi')]"
      ]
     },
     "execution_count": 157,
     "metadata": {},
     "output_type": "execute_result"
    }
   ],
   "source": [
    "all_words = []\n",
    "for line in text_mails:\n",
    "    all_words += line.split(' ')\n",
    "    \n",
    "bigrams = nltk.collocations.BigramAssocMeasures()\n",
    "finder = nltk.collocations.BigramCollocationFinder.from_words(all_words)\n",
    "finder.nbest(bigrams.pmi, 7)\n"
   ]
  },
  {
   "cell_type": "code",
   "execution_count": 158,
   "metadata": {
    "collapsed": false
   },
   "outputs": [
    {
     "data": {
      "text/plain": [
       "[('and', 'the'), ('in', 'the'), ('of', 'the'), ('on', 'the'), ('to', 'the')]"
      ]
     },
     "execution_count": 158,
     "metadata": {},
     "output_type": "execute_result"
    }
   ],
   "source": [
    "sorted(finder.nbest(bigrams.raw_freq, 5))"
   ]
  },
  {
   "cell_type": "markdown",
   "metadata": {},
   "source": [
    "### Выполнение кластеризации писем и ее визуализация"
   ]
  },
  {
   "cell_type": "code",
   "execution_count": 268,
   "metadata": {
    "collapsed": false
   },
   "outputs": [],
   "source": [
    "X = TfidfVectorizer(min_df=10, max_df=500).fit_transform(text_mails)\n",
    "svd = TruncatedSVD().fit_transform(X)"
   ]
  },
  {
   "cell_type": "code",
   "execution_count": 269,
   "metadata": {
    "collapsed": false
   },
   "outputs": [],
   "source": [
    "n_cls = 5\n",
    "kmeans = KMeans(n_clusters=n_cls)\n",
    "kmean = kmeans.fit_predict(svd)"
   ]
  },
  {
   "cell_type": "code",
   "execution_count": 270,
   "metadata": {
    "collapsed": false
   },
   "outputs": [
    {
     "data": {
      "image/png": "[encoded data removed]",
      "text/plain": [
       "<matplotlib.figure.Figure at 0x113fe2898>"
      ]
     },
     "metadata": {},
     "output_type": "display_data"
    }
   ],
   "source": [
    "plt.scatter(svd[:, 0], svd[:, 1], c=kmean)\n",
    "plt.show()"
   ]
  },
  {
   "cell_type": "markdown",
   "metadata": {},
   "source": [
    "### Визуализация содержимого кластеров"
   ]
  },
  {
   "cell_type": "markdown",
   "metadata": {},
   "source": [
    "Выведем по одному сэмплу из кластера, которые находятся ближе всего к центру кластера, а значит ярче всего характеризуют каждый кластер."
   ]
  },
  {
   "cell_type": "code",
   "execution_count": 271,
   "metadata": {
    "collapsed": false
   },
   "outputs": [
    {
     "name": "stdout",
     "output_type": "stream",
     "text": [
      "Cluster 0\n",
      "ok\n",
      "\n",
      "Cluster 1\n",
      "i hope your travels are excellent we expect dayton to prevail in the recount looking forward to finalizing details and getting underway with you warm regards\n",
      "\n",
      "Cluster 2\n",
      "dca negotiations are still on for week after next aug as requested amb barco called to request that we slide right one day aug they requested this based on a visit of mexican president calderon who will visit bogota aug the dep fm and some mindef officials want to be in bogota for calderon s visit let me know if you have any other questions\n",
      "\n",
      "Cluster 3\n",
      "hrc we are going to extend invites tomorrow morning if ok with you\n",
      "\n",
      "Cluster 4\n",
      "sbwhoeop monday february pm h just fyi what s going around les gelb sid ambling over rahm by leslie h gelb february i pm l alex brandon ap photo leslie h gelb s call for white house chief of staff rahm emanuel to be reassigned spurred a circle the wagons reaction from pro or perhaps even anti rahm forces gelb sifts the fallout for clues when you write that the president of the united states should replace his chief of staff someone will fire back so it was that rahm emanuel apparently struck back at my piece last week on the daily beast through a column in sunday s washington post only this time the return fire had a rare twist one that could produce washington convulsions it was seemingly aimed at me and others who published suggestions of emanuel s limitations as chief but whether it was intentional or not the volley actually struck the president himself here is the story a very washington tale of stretching permissible criticism of power holders of pungent media leaks of labyrinthine speculation as to who is doing what to whom maybe the leaker thought the way to get rid of rahm completely was to brand him as a traitor to the boss with a headline place rahm i wrote last tuesday that emanuel lacked the managerial skills discipline and strategic ability to get things done as chief of staff i argued he should be moved over to a political adviser slot where his considerable can do talents would better serve his boss i targeted others as well mostly in mr obama s chicago crowd several writers also blasted this crowd mostly with unsigned bullets but never crossed the red line calling for their removal i wrote the piece because it essentially reflected the waves of anti white house staff critiques breaking over washington but rarely heard outside its drawing rooms i did it because i believed the president was running out of chances to sueed and needed better and tougher staffers i did it because if he failed the nation failed then came the inevitable blast back a devastating leak in a piece by dana milbank a respected washington journalist interesting that the leaker selected milbank he s sort of a half reporter half columnist who roams the entire capital city not just the white house the leaker must have felt safe because milbank has so many sources all over town making the leakers harder to trace the milbank headline read why obama needs rahm at the top it began let us now praise rahm emanuel no seriously then he lists me and a couple others who also criticized rahm but he continued sacking emanuel is the last thing the president should do then milbank and presumably the leaker delivered the surprise and wounding blow to the president himself obama s first year fell apart in large part because he didn t follow his chief of staffs advice on crucial matters arguably emanuel is the only person keeping obama from becoming jimmy carter then milbank and the leaker took his first shot not at me but at congressional liberals and everyone in the chicago crowd except rahm obama s problem milbank continued is that his other confidants particularly valerie jarrett and robert gibbs and to a lesser extent david axelrod are part of the cult of obama in love with the president they believe he is a transformational figure who needn t dirty his hands in politics so it was their fault until you see the real blow landed beyond them and on the president himself the president would have been better off heeding emanuel s counsel but instead overruled him on several key rahm recommendations not rushing to close guantanamo and bringing terrorists to u s prisons not trying khalid sheikh mohammed in new york and going for a smaller health care bill focused on popular items with publican support the result was milbank wrote as the world now knows disastrous in other words mr obama could have thrived and saved himself on key issues had he only listened to rahm it sure looks like rahm or someone near and dear to him trying to save himself at the president s expense this is an incredibly unusual leak seemingly a chief of staff undermining his own boss the president worse it details specific advice rahm personally gave mr obama in the absolute privacy of the oval office presidents go crazy at such breaches of confidence which is why another possibility has to be considered that rahm was not the leaker the leak was so egregious so anti chicago crowd minus rahm so devastating to the president that emanuel couldn t have been stupid enough to leak a story where he was the sole surviving hero member too that my piece did not recommend kicking rahm out of the white house just sliding him over into a political adviser job where he could practice small bite pragmatism maybe someone didn t want rahm around the white house at all in any position maybe the leaker thought the way to get rid of rahm completely was to brand him as a traitor to the boss maybe the leaker belonged to that contingent of self mutilating liberal democrats who have always viewed rahm as too centrist and pragmatic of course i don t know what s afoot and of course milbank put his own views into his own article but someone gave him the specifics the precious ammunition about rahm s private advice to mr obama the story is not over leslie h gelb a former new york times columnist and senior government official is author of power rules how common sense can scue american foreign policy harpercollins a book that shows how to think about and use power in the st century he is president emeritus of the council on foreign lations url http www thedailybeast com blogs and stories rumbling over rahm p\n",
      "\n"
     ]
    }
   ],
   "source": [
    "for cls, center in enumerate(kmeans.cluster_centers_):\n",
    "    dists = euclidean_distances(svd, [center])\n",
    "    minDist = np.argmin(dists)\n",
    "    print ('Cluster ' + str(cls) + '\\n' + text_mails[minDist] + '\\n')"
   ]
  },
  {
   "cell_type": "markdown",
   "metadata": {},
   "source": [
    "### Оценка кластеров с помощью асессоров"
   ]
  },
  {
   "cell_type": "markdown",
   "metadata": {},
   "source": [
    "###### Для оценки интерпретируемости кластеров при помощи асессоров будем использовать следующий подход. Возьмем n писем из одного кластера, полученного алгоритмом. Предложим асессору определить, сложил бы он эти письма в один кластер или нет. Находим кластер с максимальным размером, который определил асессор, данное число будет баллом для данного кластера. Совершаем данную процедуру для всех 5 кластеров, затем складываем баллы по всем кластерам и делим на 5*n;"
   ]
  },
  {
   "cell_type": "markdown",
   "metadata": {},
   "source": [
    "Эксперимент:\n",
    "Было взято 5 писем из каждого кластера. Асессор разделил письма следующим образом:"
   ]
  },
  {
   "cell_type": "markdown",
   "metadata": {},
   "source": [
    "письма из 1 кластера) 3 письма, 2 письма (максимальный размер кластера ассесора = 3; 3 балла)"
   ]
  },
  {
   "cell_type": "markdown",
   "metadata": {},
   "source": [
    "письма из 2 кластера) 1 письмо,  1 письмо,  1 письмо,  1 письмо,  1 письмо (1 балл)"
   ]
  },
  {
   "cell_type": "markdown",
   "metadata": {},
   "source": [
    "письма из 3 кластера) 4 письма,  1 письмо (4 балла)"
   ]
  },
  {
   "cell_type": "markdown",
   "metadata": {},
   "source": [
    "письма из 4 кластера) 2 письма, 2 письма,  1 письмо (2 балла)"
   ]
  },
  {
   "cell_type": "markdown",
   "metadata": {},
   "source": [
    "письма из 5 кластера) 5 писем (5 баллов)"
   ]
  },
  {
   "cell_type": "markdown",
   "metadata": {},
   "source": [
    "Оценка качества: (3 + 1 + 4 + 2 + 5) / (5 * 5) = 0.6"
   ]
  },
  {
   "cell_type": "code",
   "execution_count": 275,
   "metadata": {
    "collapsed": false
   },
   "outputs": [
    {
     "data": {
      "text/plain": [
       "0.6"
      ]
     },
     "execution_count": 275,
     "metadata": {},
     "output_type": "execute_result"
    }
   ],
   "source": [
    "(3 + 1 + 4 + 2 + 5) / (5 * 5)"
   ]
  },
  {
   "cell_type": "code",
   "execution_count": null,
   "metadata": {
    "collapsed": true
   },
   "outputs": [],
   "source": []
  }
 ],
 "metadata": {
  "kernelspec": {
   "display_name": "Python 3",
   "language": "python",
   "name": "python3"
  },
  "language_info": {
   "codemirror_mode": {
    "name": "ipython",
    "version": 3
   },
   "file_extension": ".py",
   "mimetype": "text/x-python",
   "name": "python",
   "nbconvert_exporter": "python",
   "pygments_lexer": "ipython3",
   "version": "3.6.0"
  }
 },
 "nbformat": 4,
 "nbformat_minor": 2
}
